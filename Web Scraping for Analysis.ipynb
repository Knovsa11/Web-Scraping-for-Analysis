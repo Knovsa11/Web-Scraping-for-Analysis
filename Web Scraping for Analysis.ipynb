{
 "cells": [
  {
   "cell_type": "markdown",
   "metadata": {},
   "source": [
    "# Web Scraping\n",
    "\n",
    "\n",
    "Tujuan dari project ini digunakan untuk mengetahui anomali daya minat dan daya beli masyarakat terhadap produk seblak pada platform Tokopedia agar dapat melakukan skema dropshipper produk seblak, yang pada akhirnya dapat menambah pandapatan. Oleh karena itu, perlu dilakukan analisis tentang penjualan seblak pada platform Tokopedia.\n",
    "\n"
   ]
  },
  {
   "cell_type": "markdown",
   "metadata": {},
   "source": [
    "# Bagian A (Web Scraping)"
   ]
  },
  {
   "cell_type": "code",
   "execution_count": 1,
   "metadata": {},
   "outputs": [],
   "source": [
    "from bs4 import BeautifulSoup\n",
    "from selenium import webdriver\n",
    "import pandas as pd\n",
    "import time"
   ]
  },
  {
   "cell_type": "markdown",
   "metadata": {},
   "source": [
    "Melakukan import library BeautifulSoup, webdriver, pandas, dan time"
   ]
  },
  {
   "cell_type": "code",
   "execution_count": 2,
   "metadata": {},
   "outputs": [],
   "source": [
    "namaProdukList = []\n",
    "hargaProdukList = []\n",
    "penjualList = []\n",
    "kotaTokoList = []\n",
    "barangTerjualList = []\n",
    "ratingProdukList = []\n",
    "\n",
    "\n",
    "\n",
    "driver = webdriver.Chrome()\n",
    "\n",
    "for page in range(1, 11):\n",
    "    url= f\"https://www.tokopedia.com/search?navsource=&page={page}&q=seblak&srp_component_id=02.01.00.00&srp_page_id=&srp_page_title=&st=\"\n",
    "    driver.get(url)\n",
    "    \n",
    "    time.sleep(6)\n",
    "    pageHeight = int(driver.execute_script(\"return document.body.scrollHeight\"))\n",
    "    for pixel in range(1, pageHeight, 10):\n",
    "        driver.execute_script(f\"window.scrollTo(0, {pixel});\")\n",
    "    \n",
    "    html = driver.page_source\n",
    "    soup = BeautifulSoup(html, \"html.parser\")\n",
    "\n",
    "    datatestIdEl = soup.find(\"div\", {\"data-testid\" : \"divSRPContentProducts\"})\n",
    "    dataRowsEl = datatestIdEl.find_all(\"div\", {\"class\" :\"css-jza1fo\"})\n",
    "\n",
    "    for rowEl in dataRowsEl:\n",
    "        ProdukEl = rowEl.find_all(\"div\", {\"class\" : \"css-llwpbs\"})\n",
    "   \n",
    "        for produk in ProdukEl:\n",
    "\n",
    "            # nama produk\n",
    "            namaProdukEl = produk.find(\"div\", {\"class\":\"prd_link-product-name css-3um8ox\"})\n",
    "            \n",
    "            if namaProdukEl is None:\n",
    "                namaProdukList.append('No Data')\n",
    "            else:\n",
    "                namaProdukList.append(namaProdukEl.get_text())\n",
    "\n",
    "            # harga produk\n",
    "            hargaProdukEl = produk.find(\"div\", {\"class\":\"prd_link-product-price css-h66vau\"})\n",
    "            \n",
    "            if hargaProdukEl is None:\n",
    "                hargaProdukList.append('No Data')\n",
    "            else:\n",
    "                hargaProdukList.append(hargaProdukEl.get_text())\n",
    "\n",
    "            # penjual\n",
    "            penjualEl = produk.find(\"span\", {\"class\":\"prd_link-shop-name css-1kdc32b flip\"})\n",
    "            \n",
    "            if penjualEl is None:\n",
    "                penjualList.append('No Data')\n",
    "            else:\n",
    "                penjualList.append(penjualEl.get_text())\n",
    "\n",
    "            # kota\n",
    "            kotaTokoEl = produk.find(\"span\", {\"class\":\"prd_link-shop-loc css-1kdc32b flip\"})\n",
    "            \n",
    "            if kotaTokoEl is None:\n",
    "                kotaTokoList.append('No Data')\n",
    "            else:\n",
    "                kotaTokoList.append(kotaTokoEl.get_text())\n",
    "\n",
    "            # barang terjual \n",
    "            barangTerjualEl = produk.find(\"span\", {\"class\":\"prd_label-integrity css-1sgek4h\"})\n",
    "            \n",
    "            if barangTerjualEl is None:\n",
    "                barangTerjualList.append('No Data')\n",
    "            else:\n",
    "                barangTerjualList.append(barangTerjualEl.get_text())\n",
    "\n",
    "            # rating produk\n",
    "            ratingProdukEl = produk.find(\"span\", {\"class\":\"prd_rating-average-text css-t70v7i\"})\n",
    "            \n",
    "            if ratingProdukEl is None:\n",
    "                ratingProdukList.append('No Data')\n",
    "            else:\n",
    "                ratingProdukList.append(ratingProdukEl.get_text())\n",
    "    \n",
    "\n"
   ]
  },
  {
   "cell_type": "markdown",
   "metadata": {},
   "source": [
    "Melakukan web scraping pada kolom pencarian seblak di platform Tokopedia. Adapun cara yang dilakukan yang pertama adalah membuat list untuk kolom Nama Produk, Harga Produk, Penjual, Kota Toko, Barang Terjual, dan Rating Produk. Setelah membuat list untuk kolom\" yang sudah ditentukan, dalam hal ini membuat sebuah looping untuk setiap halaman pencarian seblak dari halaman 1 sampai dengan 10 dan juga melakukan looping untuk automasi scroll di tiap halaman pencarian seblak. Kemudian mencari setiap class pembungkus untuk mencari informasi tentang ama Produk, Harga Produk, Penjual, Kota Toko, Barang Terjual, dan Rating Produk yang akan dilooping dan pada akhirnya dimasukkan ke dalam list yang sebelumnya sudah dibuat."
   ]
  },
  {
   "cell_type": "code",
   "execution_count": 3,
   "metadata": {},
   "outputs": [
    {
     "data": {
      "text/html": [
       "<div>\n",
       "<style scoped>\n",
       "    .dataframe tbody tr th:only-of-type {\n",
       "        vertical-align: middle;\n",
       "    }\n",
       "\n",
       "    .dataframe tbody tr th {\n",
       "        vertical-align: top;\n",
       "    }\n",
       "\n",
       "    .dataframe thead th {\n",
       "        text-align: right;\n",
       "    }\n",
       "</style>\n",
       "<table border=\"1\" class=\"dataframe\">\n",
       "  <thead>\n",
       "    <tr style=\"text-align: right;\">\n",
       "      <th></th>\n",
       "      <th>Nama Produk</th>\n",
       "      <th>Harga Produk</th>\n",
       "      <th>Penjual</th>\n",
       "      <th>Kota Toko</th>\n",
       "      <th>Barang Terjual</th>\n",
       "      <th>Rating Produk</th>\n",
       "    </tr>\n",
       "  </thead>\n",
       "  <tbody>\n",
       "    <tr>\n",
       "      <th>0</th>\n",
       "      <td>Kylafood Seblak Original Play</td>\n",
       "      <td>Rp20.425</td>\n",
       "      <td>kylafood</td>\n",
       "      <td>Bandung</td>\n",
       "      <td>1rb+ terjual</td>\n",
       "      <td>4.9</td>\n",
       "    </tr>\n",
       "    <tr>\n",
       "      <th>1</th>\n",
       "      <td>Seblak Rafael, Seblak Coet Instan Halal</td>\n",
       "      <td>Rp25.000</td>\n",
       "      <td>Brother Meat Shop</td>\n",
       "      <td>Depok</td>\n",
       "      <td>250+ terjual</td>\n",
       "      <td>4.9</td>\n",
       "    </tr>\n",
       "    <tr>\n",
       "      <th>2</th>\n",
       "      <td>Seblak Instan</td>\n",
       "      <td>Rp8.000</td>\n",
       "      <td>ROEMAH MOSLEM</td>\n",
       "      <td>Kab. Boyolali</td>\n",
       "      <td>50+ terjual</td>\n",
       "      <td>5.0</td>\n",
       "    </tr>\n",
       "    <tr>\n",
       "      <th>3</th>\n",
       "      <td>KERUPUK SEBLAK MENTAH 1KG WARNA WARNI - Mawar ...</td>\n",
       "      <td>Rp23.500</td>\n",
       "      <td>BociKakang</td>\n",
       "      <td>Jakarta Selatan</td>\n",
       "      <td>250+ terjual</td>\n",
       "      <td>5.0</td>\n",
       "    </tr>\n",
       "    <tr>\n",
       "      <th>4</th>\n",
       "      <td>Kerupuk Seblak Rafael Pedas / Seblak Mawar Ped...</td>\n",
       "      <td>Rp15.000</td>\n",
       "      <td>DUO BOCIL SNACK</td>\n",
       "      <td>Depok</td>\n",
       "      <td>80+ terjual</td>\n",
       "      <td>5.0</td>\n",
       "    </tr>\n",
       "    <tr>\n",
       "      <th>...</th>\n",
       "      <td>...</td>\n",
       "      <td>...</td>\n",
       "      <td>...</td>\n",
       "      <td>...</td>\n",
       "      <td>...</td>\n",
       "      <td>...</td>\n",
       "    </tr>\n",
       "    <tr>\n",
       "      <th>832</th>\n",
       "      <td>Cuanki tahu bulat kering 50 pcs toping seblak ...</td>\n",
       "      <td>Rp18.000</td>\n",
       "      <td>CUANKI CULAMETAN</td>\n",
       "      <td>Kab. Garut</td>\n",
       "      <td>30+ terjual</td>\n",
       "      <td>4.8</td>\n",
       "    </tr>\n",
       "    <tr>\n",
       "      <th>833</th>\n",
       "      <td>pedo seblak kencur</td>\n",
       "      <td>Rp89.000</td>\n",
       "      <td>ANV_SNACK</td>\n",
       "      <td>Surabaya</td>\n",
       "      <td>No Data</td>\n",
       "      <td>No Data</td>\n",
       "    </tr>\n",
       "    <tr>\n",
       "      <th>834</th>\n",
       "      <td>Seblak Original k.y.l Kylafood (Spesial Panen ...</td>\n",
       "      <td>Rp20.425</td>\n",
       "      <td>kylafood</td>\n",
       "      <td>Bandung</td>\n",
       "      <td>1rb+ terjual</td>\n",
       "      <td>4.9</td>\n",
       "    </tr>\n",
       "    <tr>\n",
       "      <th>835</th>\n",
       "      <td>siomay mini kering 250 gram toping seblak baso...</td>\n",
       "      <td>Rp8.000</td>\n",
       "      <td>CUANKI CULAMETAN</td>\n",
       "      <td>Kab. Garut</td>\n",
       "      <td>100+ terjual</td>\n",
       "      <td>4.8</td>\n",
       "    </tr>\n",
       "    <tr>\n",
       "      <th>836</th>\n",
       "      <td>PAKET MIDYEAR SALE(Seblak Original, Bacil, Cir...</td>\n",
       "      <td>Rp76.000</td>\n",
       "      <td>kylafood</td>\n",
       "      <td>Bandung</td>\n",
       "      <td>40+ terjual</td>\n",
       "      <td>5.0</td>\n",
       "    </tr>\n",
       "  </tbody>\n",
       "</table>\n",
       "<p>837 rows × 6 columns</p>\n",
       "</div>"
      ],
      "text/plain": [
       "                                           Nama Produk Harga Produk  \\\n",
       "0                        Kylafood Seblak Original Play     Rp20.425   \n",
       "1              Seblak Rafael, Seblak Coet Instan Halal     Rp25.000   \n",
       "2                                        Seblak Instan      Rp8.000   \n",
       "3    KERUPUK SEBLAK MENTAH 1KG WARNA WARNI - Mawar ...     Rp23.500   \n",
       "4    Kerupuk Seblak Rafael Pedas / Seblak Mawar Ped...     Rp15.000   \n",
       "..                                                 ...          ...   \n",
       "832  Cuanki tahu bulat kering 50 pcs toping seblak ...     Rp18.000   \n",
       "833                                 pedo seblak kencur     Rp89.000   \n",
       "834  Seblak Original k.y.l Kylafood (Spesial Panen ...     Rp20.425   \n",
       "835  siomay mini kering 250 gram toping seblak baso...      Rp8.000   \n",
       "836  PAKET MIDYEAR SALE(Seblak Original, Bacil, Cir...     Rp76.000   \n",
       "\n",
       "               Penjual        Kota Toko Barang Terjual Rating Produk  \n",
       "0             kylafood          Bandung   1rb+ terjual           4.9  \n",
       "1    Brother Meat Shop            Depok   250+ terjual           4.9  \n",
       "2        ROEMAH MOSLEM    Kab. Boyolali    50+ terjual           5.0  \n",
       "3           BociKakang  Jakarta Selatan   250+ terjual           5.0  \n",
       "4      DUO BOCIL SNACK            Depok    80+ terjual           5.0  \n",
       "..                 ...              ...            ...           ...  \n",
       "832   CUANKI CULAMETAN       Kab. Garut    30+ terjual           4.8  \n",
       "833          ANV_SNACK         Surabaya        No Data       No Data  \n",
       "834           kylafood          Bandung   1rb+ terjual           4.9  \n",
       "835   CUANKI CULAMETAN       Kab. Garut   100+ terjual           4.8  \n",
       "836           kylafood          Bandung    40+ terjual           5.0  \n",
       "\n",
       "[837 rows x 6 columns]"
      ]
     },
     "execution_count": 3,
     "metadata": {},
     "output_type": "execute_result"
    }
   ],
   "source": [
    "df = pd.DataFrame({\n",
    "    \"Nama Produk\" : namaProdukList,\n",
    "    \"Harga Produk\" : hargaProdukList,\n",
    "    \"Penjual\" : penjualList,\n",
    "    \"Kota Toko\" : kotaTokoList,\n",
    "    \"Barang Terjual\" : barangTerjualList,\n",
    "    \"Rating Produk\" : ratingProdukList\n",
    "})\n",
    "\n",
    "df"
   ]
  },
  {
   "cell_type": "markdown",
   "metadata": {},
   "source": [
    "Dalam hal ini, list kolom yang sudah berisi data yang sudah diinginkan dimasukkan ke dalam dataframe dengan menggunakan pandas. Setelahnya memasukkan ke dalam data frame, melihat data-data di dalam dataframe yang sudah dibuat."
   ]
  },
  {
   "cell_type": "markdown",
   "metadata": {},
   "source": [
    "# Bagian B (Data Preparation)"
   ]
  },
  {
   "cell_type": "code",
   "execution_count": 4,
   "metadata": {},
   "outputs": [
    {
     "data": {
      "text/html": [
       "<div>\n",
       "<style scoped>\n",
       "    .dataframe tbody tr th:only-of-type {\n",
       "        vertical-align: middle;\n",
       "    }\n",
       "\n",
       "    .dataframe tbody tr th {\n",
       "        vertical-align: top;\n",
       "    }\n",
       "\n",
       "    .dataframe thead th {\n",
       "        text-align: right;\n",
       "    }\n",
       "</style>\n",
       "<table border=\"1\" class=\"dataframe\">\n",
       "  <thead>\n",
       "    <tr style=\"text-align: right;\">\n",
       "      <th></th>\n",
       "      <th>Nama Produk</th>\n",
       "      <th>Harga Produk</th>\n",
       "      <th>Penjual</th>\n",
       "      <th>Kota Toko</th>\n",
       "      <th>Barang Terjual</th>\n",
       "      <th>Rating Produk</th>\n",
       "    </tr>\n",
       "  </thead>\n",
       "  <tbody>\n",
       "    <tr>\n",
       "      <th>0</th>\n",
       "      <td>Kylafood Seblak Original Play</td>\n",
       "      <td>Rp20.425</td>\n",
       "      <td>kylafood</td>\n",
       "      <td>Bandung</td>\n",
       "      <td>1rb+ terjual</td>\n",
       "      <td>4.9</td>\n",
       "    </tr>\n",
       "    <tr>\n",
       "      <th>1</th>\n",
       "      <td>Seblak Rafael, Seblak Coet Instan Halal</td>\n",
       "      <td>Rp25.000</td>\n",
       "      <td>Brother Meat Shop</td>\n",
       "      <td>Depok</td>\n",
       "      <td>250+ terjual</td>\n",
       "      <td>4.9</td>\n",
       "    </tr>\n",
       "    <tr>\n",
       "      <th>2</th>\n",
       "      <td>Seblak Instan</td>\n",
       "      <td>Rp8.000</td>\n",
       "      <td>ROEMAH MOSLEM</td>\n",
       "      <td>Kab. Boyolali</td>\n",
       "      <td>50+ terjual</td>\n",
       "      <td>5.0</td>\n",
       "    </tr>\n",
       "    <tr>\n",
       "      <th>3</th>\n",
       "      <td>KERUPUK SEBLAK MENTAH 1KG WARNA WARNI - Mawar ...</td>\n",
       "      <td>Rp23.500</td>\n",
       "      <td>BociKakang</td>\n",
       "      <td>Jakarta Selatan</td>\n",
       "      <td>250+ terjual</td>\n",
       "      <td>5.0</td>\n",
       "    </tr>\n",
       "    <tr>\n",
       "      <th>4</th>\n",
       "      <td>Kerupuk Seblak Rafael Pedas / Seblak Mawar Ped...</td>\n",
       "      <td>Rp15.000</td>\n",
       "      <td>DUO BOCIL SNACK</td>\n",
       "      <td>Depok</td>\n",
       "      <td>80+ terjual</td>\n",
       "      <td>5.0</td>\n",
       "    </tr>\n",
       "  </tbody>\n",
       "</table>\n",
       "</div>"
      ],
      "text/plain": [
       "                                         Nama Produk Harga Produk  \\\n",
       "0                      Kylafood Seblak Original Play     Rp20.425   \n",
       "1            Seblak Rafael, Seblak Coet Instan Halal     Rp25.000   \n",
       "2                                      Seblak Instan      Rp8.000   \n",
       "3  KERUPUK SEBLAK MENTAH 1KG WARNA WARNI - Mawar ...     Rp23.500   \n",
       "4  Kerupuk Seblak Rafael Pedas / Seblak Mawar Ped...     Rp15.000   \n",
       "\n",
       "             Penjual        Kota Toko Barang Terjual Rating Produk  \n",
       "0           kylafood          Bandung   1rb+ terjual           4.9  \n",
       "1  Brother Meat Shop            Depok   250+ terjual           4.9  \n",
       "2      ROEMAH MOSLEM    Kab. Boyolali    50+ terjual           5.0  \n",
       "3         BociKakang  Jakarta Selatan   250+ terjual           5.0  \n",
       "4    DUO BOCIL SNACK            Depok    80+ terjual           5.0  "
      ]
     },
     "execution_count": 4,
     "metadata": {},
     "output_type": "execute_result"
    }
   ],
   "source": [
    "df.head(5)"
   ]
  },
  {
   "cell_type": "markdown",
   "metadata": {},
   "source": [
    "Dalam hal ini, melakukan penampilan 5 baris data teratas yang ada di dalam dataframe. Kemudian jika dilihat dari 5 baris teratas, dapat disimpulkan terdapat berbagai macam nama produk seblak yang dijual di platform tokopedia. Pada kelima produk tersebut terdapat perbedaan harga yang ditetapkan pada platform tokopedia. Produk seblak juga dijual oleh berbagai macam penjual denga kota yang berbeda-beda seperti Toko kylafood yang berdomisili di Bandung atau Non-Jabodetak. Lebih lanjut, dapat dilihat juga bahwa setiap produk seblak memiliki perbedaan barang terjual dan rating produk di Tokopedia. "
   ]
  },
  {
   "cell_type": "code",
   "execution_count": 5,
   "metadata": {},
   "outputs": [
    {
     "name": "stdout",
     "output_type": "stream",
     "text": [
      "<class 'pandas.core.frame.DataFrame'>\n",
      "RangeIndex: 837 entries, 0 to 836\n",
      "Data columns (total 6 columns):\n",
      " #   Column          Non-Null Count  Dtype \n",
      "---  ------          --------------  ----- \n",
      " 0   Nama Produk     837 non-null    object\n",
      " 1   Harga Produk    837 non-null    object\n",
      " 2   Penjual         837 non-null    object\n",
      " 3   Kota Toko       837 non-null    object\n",
      " 4   Barang Terjual  837 non-null    object\n",
      " 5   Rating Produk   837 non-null    object\n",
      "dtypes: object(6)\n",
      "memory usage: 39.4+ KB\n"
     ]
    }
   ],
   "source": [
    "df.info()"
   ]
  },
  {
   "cell_type": "markdown",
   "metadata": {},
   "source": [
    "Berdasarkan data diatas, dapat disimpulkan bahwa terdapat 826 baris yang terdapat di dalam dataframe yang terdiri dari 6 kolom utama, yaitu kolom Nama Produk, Harga Produk, Penjual, Kota Toko, Barang Terjual, dan Rating Produk. Adapun tipe data pada setiap kolom masih bertipe object atau string. Oleh karena itu, perlu dilakukan perubahan tipe data object menjadi tipe data integer atau float tergantung value yang ada di dalam kolomnya, seperti tipe data integer untuk harga produk dan tipe data float untuk rating produk. Adapun total baris yang didapat sebanyak 837 data."
   ]
  },
  {
   "cell_type": "code",
   "execution_count": 6,
   "metadata": {},
   "outputs": [
    {
     "name": "stdout",
     "output_type": "stream",
     "text": [
      "Nama Produk        0\n",
      "Harga Produk       0\n",
      "Penjual            1\n",
      "Kota Toko          1\n",
      "Barang Terjual    58\n",
      "Rating Produk     77\n",
      "dtype: int64\n"
     ]
    }
   ],
   "source": [
    "missing_values = df.apply(lambda col: col == 'No Data')\n",
    "\n",
    "jumlahMissingValue = missing_values.sum()\n",
    "\n",
    "print(jumlahMissingValue)"
   ]
  },
  {
   "cell_type": "markdown",
   "metadata": {},
   "source": [
    "Dalam hal ini menggunakan fungsi Berdasarkan data diatas, terdapat missing value \"No Data\" pada kolom Barang Terjual, Penjual, Kota Toko, dan Rating Produk di dataframe. Oleh karena itu, dibutuhkan treatment pada missing value tersebut agar tidak membuat data outlier menjadi lebih besar. Dalam hal ini treatment yang dilakukana adalah melakukan cleaning data dengan cara menghapus baris yang memiliki value \"No Data\" pada dataframe."
   ]
  },
  {
   "cell_type": "code",
   "execution_count": 7,
   "metadata": {},
   "outputs": [],
   "source": [
    "df['Harga Produk'] = df['Harga Produk'].str.replace('Rp', '')\n",
    "\n",
    "df['Harga Produk'] = df['Harga Produk'].str.replace('.', '')\n",
    "\n",
    "df['Barang Terjual'] = df['Barang Terjual'].str.replace('terjual', '')\n",
    "\n",
    "df['Barang Terjual'] = df['Barang Terjual'].str.replace('+', '')\n",
    "\n",
    "df['Barang Terjual'] = df['Barang Terjual'].str.replace('rb', '000')\n"
   ]
  },
  {
   "cell_type": "markdown",
   "metadata": {},
   "source": [
    "Dalam proses diatas, dilakukan pembersihan data pada kolom Harga Produk dan Barang terjual. Pada kolom Harga Produk dilakukan cleaning data seperti mengganti atau menghapus simbol Rp dan tanda titik pada value. Kemudian pada kolom Barang terjual dilakukan cleaning data seperti membuang data terjual dan tanda '+' pada value, dan mengganti kata rb menjadi 000 pada value agar jika dilakukan perubahan tipe data menjadi string tetap menjaga value asli dari web scraping."
   ]
  },
  {
   "cell_type": "code",
   "execution_count": 8,
   "metadata": {},
   "outputs": [
    {
     "name": "stdout",
     "output_type": "stream",
     "text": [
      "<class 'pandas.core.frame.DataFrame'>\n",
      "Index: 759 entries, 0 to 836\n",
      "Data columns (total 6 columns):\n",
      " #   Column          Non-Null Count  Dtype \n",
      "---  ------          --------------  ----- \n",
      " 0   Nama Produk     759 non-null    object\n",
      " 1   Harga Produk    759 non-null    object\n",
      " 2   Penjual         759 non-null    object\n",
      " 3   Kota Toko       759 non-null    object\n",
      " 4   Barang Terjual  759 non-null    object\n",
      " 5   Rating Produk   759 non-null    object\n",
      "dtypes: object(6)\n",
      "memory usage: 41.5+ KB\n"
     ]
    }
   ],
   "source": [
    "df_clean = df[(df['Barang Terjual'] != \"No Data\") \n",
    "              & (df['Harga Produk'] != \"No Data\") \n",
    "              & (df['Rating Produk'] != \"No Data\") \n",
    "              & (df['Nama Produk'] != \"No Data\")\n",
    "              & (df['Penjual'] != \"No Data\")\n",
    "              & (df['Kota Toko'] != \"No Data\")]\n",
    "\n",
    "df_clean.info()"
   ]
  },
  {
   "cell_type": "markdown",
   "metadata": {},
   "source": [
    "Dalam proses diatas dilakukan untuk menghapus missing value ('No Data') pada setiap kolom di dataframe. Kemudian proses tersebut dimasukkan ke dalam variabel df_clean agar data yang sudah dibersihkan disimpan di dalam variabel tersebut. Kemudian jika dilihat dari summary data, dapat dilihat bahwa terdapat pengurangan jumlah baris sebesar 759 baris pada data frame."
   ]
  },
  {
   "cell_type": "code",
   "execution_count": 9,
   "metadata": {},
   "outputs": [
    {
     "name": "stdout",
     "output_type": "stream",
     "text": [
      "<class 'pandas.core.frame.DataFrame'>\n",
      "Index: 759 entries, 0 to 836\n",
      "Data columns (total 6 columns):\n",
      " #   Column          Non-Null Count  Dtype  \n",
      "---  ------          --------------  -----  \n",
      " 0   Nama Produk     759 non-null    object \n",
      " 1   Harga Produk    759 non-null    int32  \n",
      " 2   Penjual         759 non-null    object \n",
      " 3   Kota Toko       759 non-null    object \n",
      " 4   Barang Terjual  759 non-null    int32  \n",
      " 5   Rating Produk   759 non-null    float64\n",
      "dtypes: float64(1), int32(2), object(3)\n",
      "memory usage: 35.6+ KB\n"
     ]
    },
    {
     "name": "stderr",
     "output_type": "stream",
     "text": [
      "C:\\Users\\Kelvin Rizky\\AppData\\Local\\Temp\\ipykernel_22356\\2876615595.py:1: SettingWithCopyWarning: \n",
      "A value is trying to be set on a copy of a slice from a DataFrame.\n",
      "Try using .loc[row_indexer,col_indexer] = value instead\n",
      "\n",
      "See the caveats in the documentation: https://pandas.pydata.org/pandas-docs/stable/user_guide/indexing.html#returning-a-view-versus-a-copy\n",
      "  df_clean['Harga Produk'] = df_clean['Harga Produk'].astype(int)\n",
      "C:\\Users\\Kelvin Rizky\\AppData\\Local\\Temp\\ipykernel_22356\\2876615595.py:2: SettingWithCopyWarning: \n",
      "A value is trying to be set on a copy of a slice from a DataFrame.\n",
      "Try using .loc[row_indexer,col_indexer] = value instead\n",
      "\n",
      "See the caveats in the documentation: https://pandas.pydata.org/pandas-docs/stable/user_guide/indexing.html#returning-a-view-versus-a-copy\n",
      "  df_clean['Barang Terjual'] = df_clean['Barang Terjual'].astype(int)\n",
      "C:\\Users\\Kelvin Rizky\\AppData\\Local\\Temp\\ipykernel_22356\\2876615595.py:3: SettingWithCopyWarning: \n",
      "A value is trying to be set on a copy of a slice from a DataFrame.\n",
      "Try using .loc[row_indexer,col_indexer] = value instead\n",
      "\n",
      "See the caveats in the documentation: https://pandas.pydata.org/pandas-docs/stable/user_guide/indexing.html#returning-a-view-versus-a-copy\n",
      "  df_clean['Rating Produk'] = df_clean['Rating Produk'].astype(float)\n"
     ]
    }
   ],
   "source": [
    "df_clean['Harga Produk'] = df_clean['Harga Produk'].astype(int)\n",
    "df_clean['Barang Terjual'] = df_clean['Barang Terjual'].astype(int)\n",
    "df_clean['Rating Produk'] = df_clean['Rating Produk'].astype(float)\n",
    "\n",
    "df_clean.info()"
   ]
  },
  {
   "cell_type": "markdown",
   "metadata": {},
   "source": [
    "Dalam proses ini, dilakukan perubahan tipe data pada kolom Harga Produk dan Barang Terjual, dari tipe data string menjadi integer pada df_clean, dan perubahan tipe data pada kolom Rating Produk dari tipe data string menjadi float. Kemudian, jika dilihat dari summary data, perubahan tipe data yang diinginkan berhasil dilakukan."
   ]
  },
  {
   "cell_type": "code",
   "execution_count": 10,
   "metadata": {},
   "outputs": [
    {
     "data": {
      "text/html": [
       "<div>\n",
       "<style scoped>\n",
       "    .dataframe tbody tr th:only-of-type {\n",
       "        vertical-align: middle;\n",
       "    }\n",
       "\n",
       "    .dataframe tbody tr th {\n",
       "        vertical-align: top;\n",
       "    }\n",
       "\n",
       "    .dataframe thead th {\n",
       "        text-align: right;\n",
       "    }\n",
       "</style>\n",
       "<table border=\"1\" class=\"dataframe\">\n",
       "  <thead>\n",
       "    <tr style=\"text-align: right;\">\n",
       "      <th></th>\n",
       "      <th>Nama Produk</th>\n",
       "      <th>Harga Produk</th>\n",
       "      <th>Penjual</th>\n",
       "      <th>Kota Toko</th>\n",
       "      <th>Barang Terjual</th>\n",
       "      <th>Rating Produk</th>\n",
       "    </tr>\n",
       "  </thead>\n",
       "  <tbody>\n",
       "    <tr>\n",
       "      <th>0</th>\n",
       "      <td>Kylafood Seblak Original Play</td>\n",
       "      <td>20425</td>\n",
       "      <td>kylafood</td>\n",
       "      <td>Bandung</td>\n",
       "      <td>1000</td>\n",
       "      <td>4.9</td>\n",
       "    </tr>\n",
       "    <tr>\n",
       "      <th>1</th>\n",
       "      <td>Seblak Rafael, Seblak Coet Instan Halal</td>\n",
       "      <td>25000</td>\n",
       "      <td>Brother Meat Shop</td>\n",
       "      <td>Depok</td>\n",
       "      <td>250</td>\n",
       "      <td>4.9</td>\n",
       "    </tr>\n",
       "    <tr>\n",
       "      <th>2</th>\n",
       "      <td>Seblak Instan</td>\n",
       "      <td>8000</td>\n",
       "      <td>ROEMAH MOSLEM</td>\n",
       "      <td>Kab. Boyolali</td>\n",
       "      <td>50</td>\n",
       "      <td>5.0</td>\n",
       "    </tr>\n",
       "    <tr>\n",
       "      <th>3</th>\n",
       "      <td>KERUPUK SEBLAK MENTAH 1KG WARNA WARNI - Mawar ...</td>\n",
       "      <td>23500</td>\n",
       "      <td>BociKakang</td>\n",
       "      <td>Jakarta Selatan</td>\n",
       "      <td>250</td>\n",
       "      <td>5.0</td>\n",
       "    </tr>\n",
       "    <tr>\n",
       "      <th>4</th>\n",
       "      <td>Kerupuk Seblak Rafael Pedas / Seblak Mawar Ped...</td>\n",
       "      <td>15000</td>\n",
       "      <td>DUO BOCIL SNACK</td>\n",
       "      <td>Depok</td>\n",
       "      <td>80</td>\n",
       "      <td>5.0</td>\n",
       "    </tr>\n",
       "    <tr>\n",
       "      <th>...</th>\n",
       "      <td>...</td>\n",
       "      <td>...</td>\n",
       "      <td>...</td>\n",
       "      <td>...</td>\n",
       "      <td>...</td>\n",
       "      <td>...</td>\n",
       "    </tr>\n",
       "    <tr>\n",
       "      <th>831</th>\n",
       "      <td>Seblak Viral Odjolali Snack</td>\n",
       "      <td>14900</td>\n",
       "      <td>Odjolali Snack</td>\n",
       "      <td>Bandung</td>\n",
       "      <td>25</td>\n",
       "      <td>5.0</td>\n",
       "    </tr>\n",
       "    <tr>\n",
       "      <th>832</th>\n",
       "      <td>Cuanki tahu bulat kering 50 pcs toping seblak ...</td>\n",
       "      <td>18000</td>\n",
       "      <td>CUANKI CULAMETAN</td>\n",
       "      <td>Kab. Garut</td>\n",
       "      <td>30</td>\n",
       "      <td>4.8</td>\n",
       "    </tr>\n",
       "    <tr>\n",
       "      <th>834</th>\n",
       "      <td>Seblak Original k.y.l Kylafood (Spesial Panen ...</td>\n",
       "      <td>20425</td>\n",
       "      <td>kylafood</td>\n",
       "      <td>Bandung</td>\n",
       "      <td>1000</td>\n",
       "      <td>4.9</td>\n",
       "    </tr>\n",
       "    <tr>\n",
       "      <th>835</th>\n",
       "      <td>siomay mini kering 250 gram toping seblak baso...</td>\n",
       "      <td>8000</td>\n",
       "      <td>CUANKI CULAMETAN</td>\n",
       "      <td>Kab. Garut</td>\n",
       "      <td>100</td>\n",
       "      <td>4.8</td>\n",
       "    </tr>\n",
       "    <tr>\n",
       "      <th>836</th>\n",
       "      <td>PAKET MIDYEAR SALE(Seblak Original, Bacil, Cir...</td>\n",
       "      <td>76000</td>\n",
       "      <td>kylafood</td>\n",
       "      <td>Bandung</td>\n",
       "      <td>40</td>\n",
       "      <td>5.0</td>\n",
       "    </tr>\n",
       "  </tbody>\n",
       "</table>\n",
       "<p>759 rows × 6 columns</p>\n",
       "</div>"
      ],
      "text/plain": [
       "                                           Nama Produk  Harga Produk  \\\n",
       "0                        Kylafood Seblak Original Play         20425   \n",
       "1              Seblak Rafael, Seblak Coet Instan Halal         25000   \n",
       "2                                        Seblak Instan          8000   \n",
       "3    KERUPUK SEBLAK MENTAH 1KG WARNA WARNI - Mawar ...         23500   \n",
       "4    Kerupuk Seblak Rafael Pedas / Seblak Mawar Ped...         15000   \n",
       "..                                                 ...           ...   \n",
       "831                        Seblak Viral Odjolali Snack         14900   \n",
       "832  Cuanki tahu bulat kering 50 pcs toping seblak ...         18000   \n",
       "834  Seblak Original k.y.l Kylafood (Spesial Panen ...         20425   \n",
       "835  siomay mini kering 250 gram toping seblak baso...          8000   \n",
       "836  PAKET MIDYEAR SALE(Seblak Original, Bacil, Cir...         76000   \n",
       "\n",
       "               Penjual        Kota Toko  Barang Terjual  Rating Produk  \n",
       "0             kylafood          Bandung            1000            4.9  \n",
       "1    Brother Meat Shop            Depok             250            4.9  \n",
       "2        ROEMAH MOSLEM    Kab. Boyolali              50            5.0  \n",
       "3           BociKakang  Jakarta Selatan             250            5.0  \n",
       "4      DUO BOCIL SNACK            Depok              80            5.0  \n",
       "..                 ...              ...             ...            ...  \n",
       "831     Odjolali Snack          Bandung              25            5.0  \n",
       "832   CUANKI CULAMETAN       Kab. Garut              30            4.8  \n",
       "834           kylafood          Bandung            1000            4.9  \n",
       "835   CUANKI CULAMETAN       Kab. Garut             100            4.8  \n",
       "836           kylafood          Bandung              40            5.0  \n",
       "\n",
       "[759 rows x 6 columns]"
      ]
     },
     "execution_count": 10,
     "metadata": {},
     "output_type": "execute_result"
    }
   ],
   "source": [
    "df_clean"
   ]
  },
  {
   "cell_type": "markdown",
   "metadata": {},
   "source": [
    "Melakukan penampilan dataframe yang sudah dibersihkan untuk memastikan bahwa kolom yang berisikan tipe data number sudah sesuai dengan value asli pada platform Tokopedia."
   ]
  },
  {
   "cell_type": "markdown",
   "metadata": {},
   "source": [
    "# Bagian C (Business Understanding/Problem Statement)"
   ]
  },
  {
   "cell_type": "markdown",
   "metadata": {},
   "source": [
    "- Specific: \n",
    ". Mengetahui anomali dari daya minat dan daya beli seblak di kalangan masyarakat pada platfrom Tokopedia untuk merumuskan strategi bisnis dropshipper.\n",
    "\n",
    "- Measurable: \n",
    ". Mendapatkan informasi anomali data minat dan daya beli seblak pada platform Tokopedia berdasarkan hasil analisis dari harga produk, banyak barang terjual, rating produk, dan potensi pendapatan agar mendukung pengambilan keputusan strategi bisnis dropshipper.\n",
    "\n",
    "\n",
    "- Achievable:\n",
    ". Menggunakan webscraping untuk mendapatkan informasi data tentang seblak pada platform Tokopedia.\n",
    ". Memperoleh nilai rata-rata dari harga produk, barang terjual, dan rating produk dari produk seblak.\n",
    ". Mengestimasi potensi pendapatan jika menerapkan strategi bisnis dropshipper.\n",
    ". Memperoleh informasi apakah terdapat perbedaan harga barang di Jabodetabek dengan non-Jabodetabek.\n",
    ". Memperoleh informasi apakah terdapat kecenderungan seseorang dalam membeli produk seblak ketika harganya murah.\n",
    "\n",
    "- Relevant:\n",
    ". Berdasarkan olahan dan analisis informasi anomali data minat dan daya beli seblak pada platform Tokopedia, jika adanya anomali daya minat dan daya beli masyarakat yang tinggi terhadap produk seblak, maka strategi dropshipper dapat diterapkan dan selanjutnya dapat memilih toko seblak yang memiliki rating baik serta barang terjual yang besar.\n",
    "\n",
    "\n",
    "- Time-bound:\n",
    ". Mengumpulkan informasi data seblak pada platform Tokopedia dengan menggunakan webscraping selama 3 hari.\n",
    ". Melakukan data preparation terhadap informasi data yang didapatkan dari webscraping selama 2 hari.\n",
    ". Melakukan analisa data selama 1 hari.\n",
    "\n",
    "\n",
    "Problem Statement :\n",
    ". Mengidentifikasi anomali dalam minat dan daya beli masyarakat terhadap produk seblak di platform Tokopedia melalui analisis harga produk, jumlah barang terjual, rating produk, dan potensi pendapatan dalam waktu 6 hari, untuk merumuskan strategi bisnis dropshipper yang efektif.\n"
   ]
  },
  {
   "cell_type": "markdown",
   "metadata": {},
   "source": [
    "# Bagian D"
   ]
  },
  {
   "cell_type": "markdown",
   "metadata": {},
   "source": [
    "## Bagian 1"
   ]
  },
  {
   "cell_type": "code",
   "execution_count": 11,
   "metadata": {},
   "outputs": [
    {
     "name": "stdout",
     "output_type": "stream",
     "text": [
      "Mean harga adalah 23126.084321475624\n",
      "Median harga adalah 15000.0\n",
      "Standar Deviasi harga  adalah 25721.966375552805\n",
      "Skewness harga adalah 3.442962156224897\n",
      "Kurtosis harga  adalah 16.74346052063465\n"
     ]
    }
   ],
   "source": [
    "# menghitung mean, median, dan modus dari harga produk.\n",
    "\n",
    "mean_harga = df_clean[\"Harga Produk\"].mean()\n",
    "median_harga = df_clean[\"Harga Produk\"].median(axis=0)\n",
    "median_harga = df_clean[\"Harga Produk\"].quantile(0.5)\n",
    "std_harga = df_clean[\"Harga Produk\"].std()\n",
    "skewness_harga = df_clean[\"Harga Produk\"].skew()\n",
    "kurtosis_harga = df_clean[\"Harga Produk\"].kurt()\n",
    "\n",
    "print(f'Mean harga adalah {mean_harga}')\n",
    "print(f'Median harga adalah {median_harga}')\n",
    "print(f'Standar Deviasi harga  adalah {std_harga}')\n",
    "print(f'Skewness harga adalah {skewness_harga}')\n",
    "print(f'Kurtosis harga  adalah {kurtosis_harga}')"
   ]
  },
  {
   "cell_type": "markdown",
   "metadata": {},
   "source": [
    "Berdasarkan data harga produk yang dianalisis, dapat dilihat bahwa terdapat mean sebesar 23126.084321475624 dan median sebesar 15000, yang berarti terdapat kemungkinan data yang condong ke kanan atau negative skewness. Kemudian dapat dilihat juga bahwa terdapat standar deviasi sebesar 25721.966375552805, yang dapat dimaknai bawha sebaran data harga cukup tinggi atau jauh dari meannya. Lebih lanjut dari data skewness sebesar 3.442962156224897 dapat disimpulkan bawha sebaran data higly skewed karena data skewed harga lebih dari 1. Dari kurtosis harga sebesar 16.74346052063465 dapat dimaknai bahwa sebaran datanya adalah Leptokurtic distribution karena data kurtosisnya lebih dari 0. Berdasarkan analisis data-data tersebut dapat disimpulkan bahwa terdapat data outlier pada kolom harga produk."
   ]
  },
  {
   "cell_type": "code",
   "execution_count": 12,
   "metadata": {},
   "outputs": [
    {
     "name": "stdout",
     "output_type": "stream",
     "text": [
      "Mean barang terjual adalah 414.63899868247694\n",
      "Median barang terjual adalah 100.0\n",
      "Standar Deviasi barang terjual adalah 1122.9476695067824\n",
      "Skewness barang terjual adalah 5.8561920507935294\n",
      "Kurtosis barang terjual adalah 40.68052824982278\n"
     ]
    }
   ],
   "source": [
    "# menghitung mean, median, dan modus dari barang terjual.\n",
    "\n",
    "mean_barang_terjual = df_clean[\"Barang Terjual\"].mean()\n",
    "median_barang_terjual  = df_clean[\"Barang Terjual\"].median(axis=0)\n",
    "median_barang_terjual  = df_clean[\"Barang Terjual\"].quantile(0.5)\n",
    "std_barang_terjual = df_clean[\"Barang Terjual\"].std()\n",
    "skewness_barang_terjual = df_clean[\"Barang Terjual\"].skew()\n",
    "kurtosis_barang_terjual = df_clean[\"Barang Terjual\"].kurt()\n",
    "\n",
    "\n",
    "print(f'Mean barang terjual adalah {mean_barang_terjual}')\n",
    "print(f'Median barang terjual adalah {median_barang_terjual}')\n",
    "print(f'Standar Deviasi barang terjual adalah {std_barang_terjual}')\n",
    "print(f'Skewness barang terjual adalah {skewness_barang_terjual}')\n",
    "print(f'Kurtosis barang terjual adalah {kurtosis_barang_terjual}')"
   ]
  },
  {
   "cell_type": "markdown",
   "metadata": {},
   "source": [
    "Berdasarkan data barang terjual yang dianalisis, dapat dilihat bahwa terdapat mean sebesar 414.63899868247694 dan median sebesar 100.0, yang berarti terdapat kemungkinan data yang condong ke kanan atau negative skewness. Kemudian dapat dilihat juga bahwa terdapat standar deviasi sebesar 1122.9476695067824, yang dapat dimaknai bawha sebaran data harga cukup tinggi atau jauh dari meannya. Lebih lanjut dari data skewness sebesar 5.8561920507935294 dapat disimpulkan bawha sebaran data higly skewed karena data skewed barang terjual lebih dari 1. Dari kurtosis barang terjual sebesar 40.68052824982278 dapat dimaknai bahwa sebaran datanya adalah Leptokurtic distribution karena data kurtosisnya lebih dari 0. Berdasarkan analisis data-data tersebut dapat disimpulkan bahwa terdapat data outlier pada kolom barang terjual."
   ]
  },
  {
   "cell_type": "code",
   "execution_count": 13,
   "metadata": {},
   "outputs": [
    {
     "name": "stdout",
     "output_type": "stream",
     "text": [
      "Mean rating adalah 4.874176548089592\n",
      "Median rating adalah 4.9\n",
      "Standar Deviasi rating adalah 0.14822547692164478\n",
      "Skewness rating adalah -2.004348385652977\n",
      "Kurtosis rating adalah 5.9841697491120165\n"
     ]
    }
   ],
   "source": [
    "# menghitung mean, median, dan modus dari rating produk.\n",
    "\n",
    "mean_rating = df_clean[\"Rating Produk\"].mean()\n",
    "median_rating = df_clean[\"Rating Produk\"].median(axis=0)\n",
    "median_rating = df_clean[\"Rating Produk\"].quantile(0.5)\n",
    "std_rating = df_clean[\"Rating Produk\"].std()\n",
    "skewness_rating = df_clean[\"Rating Produk\"].skew()\n",
    "kurtosis_rating = df_clean[\"Rating Produk\"].kurt()\n",
    "\n",
    "\n",
    "print(f'Mean rating adalah {mean_rating}')\n",
    "print(f'Median rating adalah {median_rating}')\n",
    "print(f'Standar Deviasi rating adalah {std_rating}')\n",
    "print(f'Skewness rating adalah {skewness_rating}')\n",
    "print(f'Kurtosis rating adalah {kurtosis_rating}')"
   ]
  },
  {
   "cell_type": "markdown",
   "metadata": {},
   "source": [
    "Berdasarkan data rating produk yang dianalisis, dapat dilihat bahwa terdapat mean sebesar 4.874176548089592 dan median sebesar 4.9, yang berarti terdapat kemungkinan data yang condong ke kiri atau positif skewness. Kemudian dapat dilihat juga bahwa terdapat standar deviasi sebesar 0.14822547692164478, yang dapat dimaknai bawha sebaran data harga cukup tinggi atau jauh dari meannya. Lebih lanjut dari data skewness sebesar -2.004348385652977 dapat disimpulkan bawha sebaran data higly skewed karena data skewed rating produk lebih dari 1. Dari kurtosis rating produk sebesar 5.9841697491120165 dapat dimaknai bahwa sebaran datanya adalah Leptokurtic distribution karena data kurtosisnya lebih dari 0. Berdasarkan analisis data-data tersebut dapat disimpulkan bahwa terdapat data outlier pada kolom rating produk."
   ]
  },
  {
   "cell_type": "markdown",
   "metadata": {},
   "source": [
    "## Bagian 2"
   ]
  },
  {
   "cell_type": "code",
   "execution_count": 14,
   "metadata": {},
   "outputs": [
    {
     "name": "stderr",
     "output_type": "stream",
     "text": [
      "C:\\Users\\Kelvin Rizky\\AppData\\Local\\Temp\\ipykernel_22356\\1654585966.py:1: SettingWithCopyWarning: \n",
      "A value is trying to be set on a copy of a slice from a DataFrame.\n",
      "Try using .loc[row_indexer,col_indexer] = value instead\n",
      "\n",
      "See the caveats in the documentation: https://pandas.pydata.org/pandas-docs/stable/user_guide/indexing.html#returning-a-view-versus-a-copy\n",
      "  df_clean[\"Pendapatan\"] = df_clean[\"Harga Produk\"] * df_clean[\"Barang Terjual\"]\n"
     ]
    }
   ],
   "source": [
    "df_clean[\"Pendapatan\"] = df_clean[\"Harga Produk\"] * df_clean[\"Barang Terjual\"]"
   ]
  },
  {
   "cell_type": "markdown",
   "metadata": {},
   "source": [
    "Dalam hal ini melakukan pembentukan kolom baru dengan nama pendapatan yang mana isi value pada kolom pendapatan didapatkan dengan mengkalikan value harga produk dengan barang terjual. Pembentukan kolom tersebut untuk melihat potensi maksimum dan minimum pendapat jika berjualan seblak."
   ]
  },
  {
   "cell_type": "code",
   "execution_count": 15,
   "metadata": {},
   "outputs": [
    {
     "name": "stdout",
     "output_type": "stream",
     "text": [
      "<class 'pandas.core.frame.DataFrame'>\n",
      "Index: 759 entries, 0 to 836\n",
      "Data columns (total 7 columns):\n",
      " #   Column          Non-Null Count  Dtype  \n",
      "---  ------          --------------  -----  \n",
      " 0   Nama Produk     759 non-null    object \n",
      " 1   Harga Produk    759 non-null    int32  \n",
      " 2   Penjual         759 non-null    object \n",
      " 3   Kota Toko       759 non-null    object \n",
      " 4   Barang Terjual  759 non-null    int32  \n",
      " 5   Rating Produk   759 non-null    float64\n",
      " 6   Pendapatan      759 non-null    int32  \n",
      "dtypes: float64(1), int32(3), object(3)\n",
      "memory usage: 38.5+ KB\n"
     ]
    }
   ],
   "source": [
    "df_clean.info()"
   ]
  },
  {
   "cell_type": "markdown",
   "metadata": {},
   "source": [
    "Menampilkan summary data setelah menambahkan kolom pendapatan."
   ]
  },
  {
   "cell_type": "code",
   "execution_count": 16,
   "metadata": {},
   "outputs": [
    {
     "name": "stdout",
     "output_type": "stream",
     "text": [
      "Lower Limit Pendapatan: 5173215.5386430025\n",
      "Upper Limit Pendapatan: 7931605.57861655\n"
     ]
    }
   ],
   "source": [
    "from scipy import stats\n",
    "import numpy as np\n",
    "\n",
    "std = df_clean[\"Pendapatan\"].std()\n",
    "N = len(df_clean)\n",
    "low, up = stats.norm.interval(0.95,loc=df_clean[\"Pendapatan\"].mean(),scale=std/np.sqrt(N))\n",
    "print('Lower Limit Pendapatan:',low)\n",
    "print('Upper Limit Pendapatan:',up)\n"
   ]
  },
  {
   "cell_type": "markdown",
   "metadata": {},
   "source": [
    "Berdasarkan syxtax diatas yang menggunakan confidence level 95%, dapat disimpulkan bahwa potensi maksimum pendapatan jika berjualan seblak sebesar 7931605.57861655. Kemudian potensi minimum pendapatan jika berjualan seblak sebesar 5173215.5386430025."
   ]
  },
  {
   "cell_type": "markdown",
   "metadata": {},
   "source": [
    "## Bagian 3"
   ]
  },
  {
   "cell_type": "code",
   "execution_count": 17,
   "metadata": {},
   "outputs": [
    {
     "data": {
      "text/plain": [
       "array(['Bandung', 'Depok', 'Kab. Boyolali', 'Jakarta Selatan',\n",
       "       'Tangerang Selatan', 'Jakarta Barat', 'Jakarta Timur',\n",
       "       'Kab. Bandung', 'Jakarta Pusat', 'Kab. Bekasi', 'Tasikmalaya',\n",
       "       'Kab. Garut', 'Kab. Indramayu', 'Surabaya', 'Kab. Bogor',\n",
       "       'Tangerang', 'Kab. Tangerang', 'Bekasi', 'Kab. Sidoarjo',\n",
       "       'Kab. Sumedang', 'Semarang', 'Cimahi', 'Kab. Majalengka', 'Medan',\n",
       "       'Banjarbaru', 'Makassar', 'Pekanbaru', 'Jakarta Utara',\n",
       "       'Palembang', 'Kab. Sukabumi', 'Kab. Bandung Barat', 'Surakarta',\n",
       "       'Malang', 'Kab. Bantul', 'Kab. Cianjur', 'Kab. Mojokerto',\n",
       "       'Kab. Demak', 'Kab. Jember', 'Kab. Purwakarta', 'Kab.Ciamis',\n",
       "       'Kab. Malang', 'Batam', 'Kab. Tasikmalaya', 'Bogor', 'Yogyakarta',\n",
       "       'Sukabumi', 'Kab. Klaten', 'Serang', 'Kab. Jombang', 'Kab. Gresik',\n",
       "       'Kab. Lebak'], dtype=object)"
      ]
     },
     "execution_count": 17,
     "metadata": {},
     "output_type": "execute_result"
    }
   ],
   "source": [
    "df_clean[\"Kota Toko\"].unique()"
   ]
  },
  {
   "cell_type": "markdown",
   "metadata": {},
   "source": [
    "Menampilkan nama-nama kota yang ada di dalam kolom Kota Toko untuk dilakukan looping yang utamanya memisahkan kota Jabodetabek dan Non Jabodetabek."
   ]
  },
  {
   "cell_type": "code",
   "execution_count": 18,
   "metadata": {},
   "outputs": [
    {
     "name": "stderr",
     "output_type": "stream",
     "text": [
      "C:\\Users\\Kelvin Rizky\\AppData\\Local\\Temp\\ipykernel_22356\\2464988978.py:33: SettingWithCopyWarning: \n",
      "A value is trying to be set on a copy of a slice from a DataFrame.\n",
      "Try using .loc[row_indexer,col_indexer] = value instead\n",
      "\n",
      "See the caveats in the documentation: https://pandas.pydata.org/pandas-docs/stable/user_guide/indexing.html#returning-a-view-versus-a-copy\n",
      "  df_clean['Domisili'] = Domisili\n"
     ]
    }
   ],
   "source": [
    "Domisili = []\n",
    "\n",
    "for kota in df_clean[\"Kota Toko\"]:\n",
    "  if kota == 'Tangerang Selatan':\n",
    "    Domisili.append('Jabodetabek')\n",
    "  elif kota == 'Jakarta Selatan':\n",
    "    Domisili.append('Jabodetabek')\n",
    "  elif kota == 'Depok':\n",
    "    Domisili.append('Jabodetabek')\n",
    "  elif kota == 'Jakarta Barat':\n",
    "    Domisili.append('Jabodetabek')\n",
    "  elif kota == 'Kab. Bogor':\n",
    "    Domisili.append('Jabodetabek')\n",
    "  elif kota == 'Kab. Tangerang':\n",
    "    Domisili.append('Jabodetabek')\n",
    "  elif kota == 'Jakarta Timur':\n",
    "    Domisili.append('Jabodetabek')\n",
    "  elif kota == 'Jakarta Utara':\n",
    "    Domisili.append('Jabodetabek')\n",
    "  elif kota == 'Bekasi':\n",
    "    Domisili.append('Jabodetabek')\n",
    "  elif kota == 'Kab. Bekasi':\n",
    "    Domisili.append('Jabodetabek')\n",
    "  elif kota == 'Tangerang':\n",
    "    Domisili.append('Jabodetabek')\n",
    "  elif kota == 'Jakarta Pusat':\n",
    "    Domisili.append('Jabodetabek')\n",
    "  elif kota == 'Bogor':\n",
    "    Domisili.append('Jabodetabek')  \n",
    "  else:\n",
    "    Domisili.append('Non Jabodetabek')\n",
    "\n",
    "df_clean['Domisili'] = Domisili"
   ]
  },
  {
   "cell_type": "markdown",
   "metadata": {},
   "source": [
    "Pada proses diatas melakukan proses looping dimana jika terdapat kota yang ada di dalam Jabodetabek, maka kota tersebut masuk ke dalam kategori Jabodetabek dan kota yang ada di luar Jabodetabek, maka kota tersebut masuk ke dalam kategori Non-Jabodetabek. Kemudian data-data tersebut dimasukkan ke dalam list Domisili dan menambahkan kolom domisili pada dataframe."
   ]
  },
  {
   "cell_type": "code",
   "execution_count": 19,
   "metadata": {},
   "outputs": [
    {
     "data": {
      "text/html": [
       "<div>\n",
       "<style scoped>\n",
       "    .dataframe tbody tr th:only-of-type {\n",
       "        vertical-align: middle;\n",
       "    }\n",
       "\n",
       "    .dataframe tbody tr th {\n",
       "        vertical-align: top;\n",
       "    }\n",
       "\n",
       "    .dataframe thead th {\n",
       "        text-align: right;\n",
       "    }\n",
       "</style>\n",
       "<table border=\"1\" class=\"dataframe\">\n",
       "  <thead>\n",
       "    <tr style=\"text-align: right;\">\n",
       "      <th></th>\n",
       "      <th>Nama Produk</th>\n",
       "      <th>Harga Produk</th>\n",
       "      <th>Penjual</th>\n",
       "      <th>Kota Toko</th>\n",
       "      <th>Barang Terjual</th>\n",
       "      <th>Rating Produk</th>\n",
       "      <th>Pendapatan</th>\n",
       "      <th>Domisili</th>\n",
       "    </tr>\n",
       "  </thead>\n",
       "  <tbody>\n",
       "    <tr>\n",
       "      <th>0</th>\n",
       "      <td>Kylafood Seblak Original Play</td>\n",
       "      <td>20425</td>\n",
       "      <td>kylafood</td>\n",
       "      <td>Bandung</td>\n",
       "      <td>1000</td>\n",
       "      <td>4.9</td>\n",
       "      <td>20425000</td>\n",
       "      <td>Non Jabodetabek</td>\n",
       "    </tr>\n",
       "    <tr>\n",
       "      <th>1</th>\n",
       "      <td>Seblak Rafael, Seblak Coet Instan Halal</td>\n",
       "      <td>25000</td>\n",
       "      <td>Brother Meat Shop</td>\n",
       "      <td>Depok</td>\n",
       "      <td>250</td>\n",
       "      <td>4.9</td>\n",
       "      <td>6250000</td>\n",
       "      <td>Jabodetabek</td>\n",
       "    </tr>\n",
       "    <tr>\n",
       "      <th>2</th>\n",
       "      <td>Seblak Instan</td>\n",
       "      <td>8000</td>\n",
       "      <td>ROEMAH MOSLEM</td>\n",
       "      <td>Kab. Boyolali</td>\n",
       "      <td>50</td>\n",
       "      <td>5.0</td>\n",
       "      <td>400000</td>\n",
       "      <td>Non Jabodetabek</td>\n",
       "    </tr>\n",
       "    <tr>\n",
       "      <th>3</th>\n",
       "      <td>KERUPUK SEBLAK MENTAH 1KG WARNA WARNI - Mawar ...</td>\n",
       "      <td>23500</td>\n",
       "      <td>BociKakang</td>\n",
       "      <td>Jakarta Selatan</td>\n",
       "      <td>250</td>\n",
       "      <td>5.0</td>\n",
       "      <td>5875000</td>\n",
       "      <td>Jabodetabek</td>\n",
       "    </tr>\n",
       "    <tr>\n",
       "      <th>4</th>\n",
       "      <td>Kerupuk Seblak Rafael Pedas / Seblak Mawar Ped...</td>\n",
       "      <td>15000</td>\n",
       "      <td>DUO BOCIL SNACK</td>\n",
       "      <td>Depok</td>\n",
       "      <td>80</td>\n",
       "      <td>5.0</td>\n",
       "      <td>1200000</td>\n",
       "      <td>Jabodetabek</td>\n",
       "    </tr>\n",
       "    <tr>\n",
       "      <th>...</th>\n",
       "      <td>...</td>\n",
       "      <td>...</td>\n",
       "      <td>...</td>\n",
       "      <td>...</td>\n",
       "      <td>...</td>\n",
       "      <td>...</td>\n",
       "      <td>...</td>\n",
       "      <td>...</td>\n",
       "    </tr>\n",
       "    <tr>\n",
       "      <th>831</th>\n",
       "      <td>Seblak Viral Odjolali Snack</td>\n",
       "      <td>14900</td>\n",
       "      <td>Odjolali Snack</td>\n",
       "      <td>Bandung</td>\n",
       "      <td>25</td>\n",
       "      <td>5.0</td>\n",
       "      <td>372500</td>\n",
       "      <td>Non Jabodetabek</td>\n",
       "    </tr>\n",
       "    <tr>\n",
       "      <th>832</th>\n",
       "      <td>Cuanki tahu bulat kering 50 pcs toping seblak ...</td>\n",
       "      <td>18000</td>\n",
       "      <td>CUANKI CULAMETAN</td>\n",
       "      <td>Kab. Garut</td>\n",
       "      <td>30</td>\n",
       "      <td>4.8</td>\n",
       "      <td>540000</td>\n",
       "      <td>Non Jabodetabek</td>\n",
       "    </tr>\n",
       "    <tr>\n",
       "      <th>834</th>\n",
       "      <td>Seblak Original k.y.l Kylafood (Spesial Panen ...</td>\n",
       "      <td>20425</td>\n",
       "      <td>kylafood</td>\n",
       "      <td>Bandung</td>\n",
       "      <td>1000</td>\n",
       "      <td>4.9</td>\n",
       "      <td>20425000</td>\n",
       "      <td>Non Jabodetabek</td>\n",
       "    </tr>\n",
       "    <tr>\n",
       "      <th>835</th>\n",
       "      <td>siomay mini kering 250 gram toping seblak baso...</td>\n",
       "      <td>8000</td>\n",
       "      <td>CUANKI CULAMETAN</td>\n",
       "      <td>Kab. Garut</td>\n",
       "      <td>100</td>\n",
       "      <td>4.8</td>\n",
       "      <td>800000</td>\n",
       "      <td>Non Jabodetabek</td>\n",
       "    </tr>\n",
       "    <tr>\n",
       "      <th>836</th>\n",
       "      <td>PAKET MIDYEAR SALE(Seblak Original, Bacil, Cir...</td>\n",
       "      <td>76000</td>\n",
       "      <td>kylafood</td>\n",
       "      <td>Bandung</td>\n",
       "      <td>40</td>\n",
       "      <td>5.0</td>\n",
       "      <td>3040000</td>\n",
       "      <td>Non Jabodetabek</td>\n",
       "    </tr>\n",
       "  </tbody>\n",
       "</table>\n",
       "<p>759 rows × 8 columns</p>\n",
       "</div>"
      ],
      "text/plain": [
       "                                           Nama Produk  Harga Produk  \\\n",
       "0                        Kylafood Seblak Original Play         20425   \n",
       "1              Seblak Rafael, Seblak Coet Instan Halal         25000   \n",
       "2                                        Seblak Instan          8000   \n",
       "3    KERUPUK SEBLAK MENTAH 1KG WARNA WARNI - Mawar ...         23500   \n",
       "4    Kerupuk Seblak Rafael Pedas / Seblak Mawar Ped...         15000   \n",
       "..                                                 ...           ...   \n",
       "831                        Seblak Viral Odjolali Snack         14900   \n",
       "832  Cuanki tahu bulat kering 50 pcs toping seblak ...         18000   \n",
       "834  Seblak Original k.y.l Kylafood (Spesial Panen ...         20425   \n",
       "835  siomay mini kering 250 gram toping seblak baso...          8000   \n",
       "836  PAKET MIDYEAR SALE(Seblak Original, Bacil, Cir...         76000   \n",
       "\n",
       "               Penjual        Kota Toko  Barang Terjual  Rating Produk  \\\n",
       "0             kylafood          Bandung            1000            4.9   \n",
       "1    Brother Meat Shop            Depok             250            4.9   \n",
       "2        ROEMAH MOSLEM    Kab. Boyolali              50            5.0   \n",
       "3           BociKakang  Jakarta Selatan             250            5.0   \n",
       "4      DUO BOCIL SNACK            Depok              80            5.0   \n",
       "..                 ...              ...             ...            ...   \n",
       "831     Odjolali Snack          Bandung              25            5.0   \n",
       "832   CUANKI CULAMETAN       Kab. Garut              30            4.8   \n",
       "834           kylafood          Bandung            1000            4.9   \n",
       "835   CUANKI CULAMETAN       Kab. Garut             100            4.8   \n",
       "836           kylafood          Bandung              40            5.0   \n",
       "\n",
       "     Pendapatan         Domisili  \n",
       "0      20425000  Non Jabodetabek  \n",
       "1       6250000      Jabodetabek  \n",
       "2        400000  Non Jabodetabek  \n",
       "3       5875000      Jabodetabek  \n",
       "4       1200000      Jabodetabek  \n",
       "..          ...              ...  \n",
       "831      372500  Non Jabodetabek  \n",
       "832      540000  Non Jabodetabek  \n",
       "834    20425000  Non Jabodetabek  \n",
       "835      800000  Non Jabodetabek  \n",
       "836     3040000  Non Jabodetabek  \n",
       "\n",
       "[759 rows x 8 columns]"
      ]
     },
     "execution_count": 19,
     "metadata": {},
     "output_type": "execute_result"
    }
   ],
   "source": [
    "df_clean"
   ]
  },
  {
   "cell_type": "markdown",
   "metadata": {},
   "source": [
    "Melakukan penampilan dataframe untuk melakukan pengecekan kolom domisili."
   ]
  },
  {
   "cell_type": "code",
   "execution_count": 20,
   "metadata": {},
   "outputs": [],
   "source": [
    "Jabodetabek = df_clean[df_clean['Domisili']=='Jabodetabek']\n",
    "nonJabodetabek = df_clean[df_clean['Domisili']=='Non Jabodetabek']"
   ]
  },
  {
   "cell_type": "markdown",
   "metadata": {},
   "source": [
    "Dalam proses diatas melakukan pembentukan variabel Jabodetabek, yang mana value pada variabel Jabodetabek adalah value 'Jabodetabek' yang ada di dalam kolom domisili dan melakukan pembentukan variabel nonJabodetabek, yang mana value pada variabel nonJabodetabek adalah value 'Non Jabodetabek' yang ada di dalam kolom domisili untuk dapat menganalisis perbedaan kota yang ada Jabodetabek dan Non Jabodetabek dari sisi harga produk."
   ]
  },
  {
   "cell_type": "markdown",
   "metadata": {},
   "source": [
    "Oleh karena itu dibutuhkan sebuah Hipotesis null dan Hipotesis alternatif untuk menjawab apakah ada perbedaan harga produk Jabodetabek dan Non Jabodetabek.\n",
    "\n",
    "H0 : Harga Produk Jabodetabek == Harga Produk Non Jabodetabek\n",
    "\n",
    "H1 : Harga Produk Jabodetabek != Harga Produk Non Jabodetabek"
   ]
  },
  {
   "cell_type": "code",
   "execution_count": 21,
   "metadata": {},
   "outputs": [
    {
     "name": "stdout",
     "output_type": "stream",
     "text": [
      "T-Statistic: 17.60032205726366\n",
      "P-value: 2.1986974973095883e-58\n"
     ]
    }
   ],
   "source": [
    "t_stat, p_val = stats.ttest_ind(Jabodetabek['Harga Produk'],nonJabodetabek['Rating Produk'])\n",
    "print('T-Statistic:',t_stat)\n",
    "print('P-value:',p_val)"
   ]
  },
  {
   "cell_type": "markdown",
   "metadata": {},
   "source": [
    "Berdasarkan analisis P-value diatas, dapat dianalisis bahwa nilai P-value (2.1986974973095883e-58) < critical value (0.05) yang dapat diartikan bahwa terdapat perbedaan harga barang antara kota di Jabodetabek dan Non Jabodetabek (Tolak  H0)."
   ]
  },
  {
   "cell_type": "markdown",
   "metadata": {},
   "source": [
    "## Bagian 4"
   ]
  },
  {
   "cell_type": "code",
   "execution_count": 22,
   "metadata": {},
   "outputs": [
    {
     "name": "stdout",
     "output_type": "stream",
     "text": [
      "rho-correlation: 0.12, p-value: 0.001131112396701227\n"
     ]
    }
   ],
   "source": [
    "from scipy import stats\n",
    "\n",
    "corr_rho, pval_s = stats.spearmanr(df_clean['Harga Produk'], df_clean['Rating Produk'])\n",
    "print(f\"rho-correlation: {corr_rho:.2f}, p-value: {pval_s}\")\n"
   ]
  },
  {
   "cell_type": "markdown",
   "metadata": {},
   "source": [
    "H0 = Ada korelasi yang nyata antara harga produk dengan rating produk\n",
    "\n",
    "H1 = Tidak ada korelasi yang nyata antara harga produk dengan rating produk"
   ]
  },
  {
   "cell_type": "markdown",
   "metadata": {},
   "source": [
    "Berdasarkan analisis P-value diatas, didapatkan bahwa nilai korelasi yang didapat 0.12 atau korelasi positif yang lemah. Korelasi positif lemah dapat dimaknai karena nilainya lebih mendekati 0 daripada 1. Artinya, dapat disimpulkan bahwa terdapat hubungan positif yang lemah antara harga produk dan rating produk, jadi ketika harga makin tinggi maka rating produknya akan semakin tinggi juga. Oleh karena itu tidak ada hubungan antara harga rendah atau murah dengan preferensi membeli. Lebih lanjut, dapat dianalisis juga bahwa nilai P-value (0.001131112396701227) < critical value (0.05) yang dapat diartikan bahwa tidak ada korelasi yang nyata antara harga produk dengan rating produk. Dengan demikian dapat disimpulkan bawha tidak ada kecenderungan preferensi membeli dengan harga yang murah."
   ]
  },
  {
   "cell_type": "markdown",
   "metadata": {},
   "source": [
    "# Bagian E (Kesimpulan)"
   ]
  },
  {
   "cell_type": "markdown",
   "metadata": {},
   "source": [
    "Kesimpulan yang dapat diambil dari hasil analisis diatas adalah : \n",
    "\n",
    "1. Berdasarkan hasil analisis, dapat disimpulkan bahwa untuk strategi dropshipper seblak di platform Tokopedia, sebaiknya memilih produk dengan harga di bawah atau pada rata-rata (23126.08) untuk memenuhi preferensi beli konsumen, serta fokus pada produk dengan barang terjual di atas rata-rata (414.63) dan rating di atas rata-rata (4.87) untuk meningkatkan kepercayaan konsumen.\n",
    "\n",
    "2. Dari segi pendapatan, strategi dropshipper memiliki potensi pendapatan antara Rp5juta hingga Rp7juta, yang mana memberikan gambaran mengenai potensi keuntungan yang dapat diperoleh dari skema bisnis ini.\n",
    "\n",
    "3. Analisis menunjukkan bahwa terdapat perbedaan harga produk seblak di dalam dan di luar Jabodetabek, sehingga pemilihan penjual seblak untuk dropshipper sebaiknya mempertimbangkan lokasi.\n",
    "\n",
    "4. Analisis menunjukkan bahwa daya beli masyarakat (preferensi suka) terhadap produk seblak tidak dipengaruhi oleh harga yang murah, menunjukkan bahwa faktor harga tidak menjadi penentu utama dalam preferensi pembelian konsumen.\n"
   ]
  }
 ],
 "metadata": {
  "kernelspec": {
   "display_name": "base",
   "language": "python",
   "name": "python3"
  },
  "language_info": {
   "codemirror_mode": {
    "name": "ipython",
    "version": 3
   },
   "file_extension": ".py",
   "mimetype": "text/x-python",
   "name": "python",
   "nbconvert_exporter": "python",
   "pygments_lexer": "ipython3",
   "version": "3.9.18"
  }
 },
 "nbformat": 4,
 "nbformat_minor": 2
}
